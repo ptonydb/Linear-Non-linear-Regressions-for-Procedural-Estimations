{
  "nbformat": 4,
  "nbformat_minor": 0,
  "metadata": {
    "kernelspec": {
      "display_name": "Python 3",
      "language": "python",
      "name": "python3"
    },
    "language_info": {
      "codemirror_mode": {
        "name": "ipython",
        "version": 3
      },
      "file_extension": ".py",
      "mimetype": "text/x-python",
      "name": "python",
      "nbconvert_exporter": "python",
      "pygments_lexer": "ipython3",
      "version": "3.7.0"
    },
    "colab": {
      "name": "Linear and Nonlinear Regressions for Crafting Estimation",
      "provenance": [],
      "collapsed_sections": [],
      "include_colab_link": true
    },
    "accelerator": "GPU"
  },
  "cells": [
    {
      "cell_type": "markdown",
      "metadata": {
        "id": "view-in-github",
        "colab_type": "text"
      },
      "source": [
        "<a href=\"https://colab.research.google.com/github/ptonydb/Procedures-Cost-Estimation/blob/main/Linear_and_Nonlinear_Regressions_for_Crafting_Estimation.ipynb\" target=\"_parent\"><img src=\"https://colab.research.google.com/assets/colab-badge.svg\" alt=\"Open In Colab\"/></a>"
      ]
    },
    {
      "cell_type": "markdown",
      "metadata": {
        "id": "8Z1V7C7KstdU"
      },
      "source": [
        "**Crafting Time Estimation**\n",
        "\n",
        "In this project, we will be using regressions, of both the linear and non-linear persuasions.  We will be using these to create estimates in the amount of time required to get from a given crafting state to another crafting state, i.e. to produce a heuristic cost for the planning done.  \n",
        "\n",
        "\n",
        "We will be constructing the following models:\n",
        "\n",
        "1. A linear regression solved via raw matrix operations, as discussed in class\n",
        "2. A linear regression solved via numpy's library\n",
        "3. A linear regression solved via Stochastic Gradient Descent with an artificial neural network\n",
        "4. A linear regression using a deep artificial neural network\n",
        "5. A non-linear regression using a deep artificial neural network\n",
        "\n",
        "Finally, the non-linear regression will be used as the heuristic in an A* search of the planning space "
      ]
    },
    {
      "cell_type": "markdown",
      "metadata": {
        "id": "Jb1Acg0nstdV"
      },
      "source": [
        "Our first step is to read the data in a form that is conducive for regression.  The data is a CSV file where the first row are the names of each column.  "
      ]
    },
    {
      "cell_type": "code",
      "metadata": {
        "id": "NNUzFiOpsvM7",
        "colab": {
          "base_uri": "https://localhost:8080/"
        },
        "outputId": "11727328-68fa-48df-904b-cee37c8c0d92"
      },
      "source": [
        "!wget https://raw.githubusercontent.com/adamsumm/AI_Minecraft_Assignments/master/CraftingRegressionEstimation/crafting_times.csv"
      ],
      "execution_count": null,
      "outputs": [
        {
          "output_type": "stream",
          "text": [
            "--2020-11-23 01:26:04--  https://raw.githubusercontent.com/adamsumm/AI_Minecraft_Assignments/master/CraftingRegressionEstimation/crafting_times.csv\n",
            "Resolving raw.githubusercontent.com (raw.githubusercontent.com)... 151.101.0.133, 151.101.64.133, 151.101.128.133, ...\n",
            "Connecting to raw.githubusercontent.com (raw.githubusercontent.com)|151.101.0.133|:443... connected.\n",
            "HTTP request sent, awaiting response... 200 OK\n",
            "Length: 2128878 (2.0M) [text/plain]\n",
            "Saving to: ‘crafting_times.csv’\n",
            "\n",
            "\rcrafting_times.csv    0%[                    ]       0  --.-KB/s               \rcrafting_times.csv  100%[===================>]   2.03M  --.-KB/s    in 0.03s   \n",
            "\n",
            "2020-11-23 01:26:04 (60.9 MB/s) - ‘crafting_times.csv’ saved [2128878/2128878]\n",
            "\n"
          ],
          "name": "stdout"
        }
      ]
    },
    {
      "cell_type": "code",
      "metadata": {
        "id": "8uXNwf_XstdV",
        "colab": {
          "base_uri": "https://localhost:8080/"
        },
        "outputId": "a57007ec-47b6-4fc3-b6f1-86f9bd3be350"
      },
      "source": [
        "import numpy as np\n",
        "#Open the file\n",
        "with open('crafting_times.csv','r') as infile:\n",
        "    #Get the header line\n",
        "    header = infile.readline().rstrip().split(',')\n",
        "    data = []\n",
        "    #Read it in\n",
        "    for line in infile:\n",
        "        data.append([float(s) for s in line.rstrip().split(',')])\n",
        "    #turn our list of lists into a numpy array\n",
        "    data = np.array(data)\n",
        "    \n",
        "print('\\n'.join(header))\n",
        "print(data.shape)"
      ],
      "execution_count": null,
      "outputs": [
        {
          "output_type": "stream",
          "text": [
            "time\n",
            "initial_bench\n",
            "initial_cart\n",
            "initial_coal\n",
            "initial_cobble\n",
            "initial_furnace\n",
            "initial_ingot\n",
            "initial_iron_axe\n",
            "initial_iron_pickaxe\n",
            "initial_ore\n",
            "initial_plank\n",
            "initial_rail\n",
            "initial_stick\n",
            "initial_stone_axe\n",
            "initial_stone_pickaxe\n",
            "initial_wood\n",
            "initial_wooden_axe\n",
            "initial_wooden_pickaxe\n",
            "goal_bench\n",
            "goal_cart\n",
            "goal_coal\n",
            "goal_cobble\n",
            "goal_furnace\n",
            "goal_ingot\n",
            "goal_iron_axe\n",
            "goal_iron_pickaxe\n",
            "goal_ore\n",
            "goal_plank\n",
            "goal_rail\n",
            "goal_stick\n",
            "goal_stone_axe\n",
            "goal_stone_pickaxe\n",
            "goal_wood\n",
            "goal_wooden_axe\n",
            "goal_wooden_pickaxe\n",
            "(30000, 35)\n"
          ],
          "name": "stdout"
        }
      ]
    },
    {
      "cell_type": "markdown",
      "metadata": {
        "id": "fWJ6znOEstdY"
      },
      "source": [
        "We see that the columns are: \n",
        "0 -- The time it takes\n",
        "1-17 -- The initial state\n",
        "18-35 -- The goal state\n",
        "\n",
        "Now, we need to construct our X and Y matrices.\n",
        "\n",
        "Luckily, *slicing* is very easy to do with numpy arrays.  *Slicing* is where we can easily specify how to take subsets of our matrix.  Think of it like indexing into an array, only we can do a lot of them at once.\n",
        "\n",
        "\n",
        "The general syntax is:\n",
        "\n",
        "`vector[a:b]`\n",
        "`matrix[a:b,c:d]` \n",
        "`tensor[a:b,c:d,e:f]`\n",
        "\n",
        "As a note, `a, b, c, d, e, f` are the indices you wish to get -- if `a` is blank it will start from the beginning and if `b` is blank it will go until the end.  Note: these can also be negative, which can be thought of as `n` away from the end.\n",
        "\n",
        "Some examples:\n",
        "\n",
        "`data[:,0]` -- Get all of the members of the first column \n",
        "`data[:,-1]` -- Get all of the members of the last column\n",
        "`data[:a,1:]` -- Get the first `a` rows for the 2nd to last columns\n",
        "`data[a:,1:]` -- Get all of the rows starting at `a` for the 2nd to last columns\n",
        "\n",
        "As a note, you can get the dimensions of a numpy array by accessing `.shape`, a tuple of the dimensions"
      ]
    },
    {
      "cell_type": "markdown",
      "metadata": {
        "id": "nDbA5TujtMPi"
      },
      "source": [
        "#Step 1 -- Set up Matrices\n",
        "* Let the first N*validation_split rows be for the validation set \n",
        "* and the last N*(1-validation_split) rows be the training data\n",
        "* At the end of this, you should have:\n",
        "    \n",
        "    `Y.shape = (21000, 1)`\n",
        "\n",
        "    `X.shape = (21000, 34)`\n",
        "\n",
        "    `Y_validation.shape = (9000, 1)`\n",
        "\n",
        "    `X_validation.shape = (9000, 34)`"
      ]
    },
    {
      "cell_type": "code",
      "metadata": {
        "id": "tZ27xt85stdY",
        "colab": {
          "base_uri": "https://localhost:8080/"
        },
        "outputId": "1aaabb86-f1ff-4169-f48f-48d5896f1e00"
      },
      "source": [
        "#We want to use a training/validation split to verify we are doing a good job\n",
        "validation_split = 0.3\n",
        "v = 30000*validation_split\n",
        "\n",
        "#TODO slice the data into the correct matrices for training and validation splits \n",
        "#Let the first N*validation_split rows be for the validation set \n",
        "#and the last N*(1-validation_split) rows be the training data\n",
        "\n",
        "\n",
        "\n",
        "Y = data[int(30000*validation_split):,0:1]\n",
        "Y_validation = data[:int(30000*validation_split),0:1]\n",
        "\n",
        "X = data[int(30000*validation_split):,1:]\n",
        "X_validation = data[:int(30000*validation_split),1:]\n",
        "\n",
        "print(Y.shape)\n",
        "print(X.shape)\n",
        "print(Y_validation.shape)\n",
        "print(X_validation.shape)\n"
      ],
      "execution_count": null,
      "outputs": [
        {
          "output_type": "stream",
          "text": [
            "(21000, 1)\n",
            "(21000, 34)\n",
            "(9000, 1)\n",
            "(9000, 34)\n"
          ],
          "name": "stdout"
        }
      ]
    },
    {
      "cell_type": "markdown",
      "metadata": {
        "id": "a7Vgb6pUstda"
      },
      "source": [
        "Now we will use Least Squares Regression to estimate the time cost associated with a given state and end state.  \n",
        "\n",
        "The least squares regression coefficients can be calculated via the closed form solution:\n",
        "\n",
        "$\\beta =  (X^T X)^{-1} X^T Y$\n",
        "\n",
        "First try it out with using `np.dot` (anywhere there is a matrix multiplication) and `np.inv` (anywhere there is a matrix inversion. (as a note, matrix transposition is accomplished with `.T`)\n",
        "\n",
        "Next, compare using `np.linalg.lstsq` -- numpy's built in least squares regression (that is much more stable than using the matrix inversion found here)."
      ]
    },
    {
      "cell_type": "markdown",
      "metadata": {
        "id": "L0hgr3gquF-0"
      },
      "source": [
        "#Step 2 -- Perform Linear Regressions\n",
        "* Write your own version of linear regression using the closed from solution discussed above\n",
        "* Use the supplied least squares regression that is part of numpy's linear algebra library\n",
        "* Compare the two\n"
      ]
    },
    {
      "cell_type": "code",
      "metadata": {
        "id": "-7GbcxsGstdb",
        "colab": {
          "base_uri": "https://localhost:8080/"
        },
        "outputId": "b7af9696-b37f-4d60-e862-52af66c3d398"
      },
      "source": [
        "#Least Squares Estimation Goes Here\n",
        "\n",
        "\n",
        "#TODO replace the np.zeros() with the correct code\n",
        "\n",
        "def calculate_weights_with_linear_algebra(X: np.array, Y: np.array) -> np.array:\n",
        "    return np.dot(np.dot(np.linalg.inv(np.dot(X.T,X)), X.T), Y)\n",
        "\n",
        "def calculate_weights_with_library(X: np.array, Y: np.array) -> np.array:\n",
        "    return np.array(np.linalg.lstsq(X,Y))\n",
        "\n",
        "B_raw = calculate_weights_with_linear_algebra(X,Y)\n",
        "B_lstsq = calculate_weights_with_library(X,Y)\n",
        "\n",
        "\n",
        "#This should be small, mostly in the 1e-13 to 1e-14 range\n",
        "print(B_raw-B_lstsq)"
      ],
      "execution_count": null,
      "outputs": [
        {
          "output_type": "stream",
          "text": [
            "[[ 1.49213975e-13]\n",
            " [ 4.47841764e-12]\n",
            " [-3.40005801e-14]\n",
            " [-6.83897383e-14]\n",
            " [-5.24025268e-13]\n",
            " [ 3.41948692e-14]\n",
            " [ 1.17239551e-12]\n",
            " [ 4.37871961e-13]\n",
            " [ 2.66453526e-15]\n",
            " [-3.81916720e-14]\n",
            " [-5.10702591e-15]\n",
            " [-3.66373598e-14]\n",
            " [-6.12843110e-14]\n",
            " [ 1.77635684e-15]\n",
            " [ 2.85327317e-14]\n",
            " [-2.04281037e-14]\n",
            " [-2.66453526e-14]\n",
            " [ 1.45661261e-13]\n",
            " [ 8.52651283e-14]\n",
            " [ 2.13162821e-14]\n",
            " [-1.64313008e-14]\n",
            " [ 6.03961325e-14]\n",
            " [ 7.10542736e-15]\n",
            " [ 0.00000000e+00]\n",
            " [-1.42108547e-13]\n",
            " [ 1.42108547e-14]\n",
            " [-2.70894418e-14]\n",
            " [-7.10542736e-15]\n",
            " [-7.14706072e-16]\n",
            " [-6.92779167e-14]\n",
            " [ 6.21724894e-15]\n",
            " [ 3.64153152e-14]\n",
            " [-3.55271368e-14]\n",
            " [-1.02140518e-14]]\n"
          ],
          "name": "stdout"
        },
        {
          "output_type": "stream",
          "text": [
            "/usr/local/lib/python3.6/dist-packages/ipykernel_launcher.py:10: FutureWarning: `rcond` parameter will change to the default of machine precision times ``max(M, N)`` where M and N are the input matrix dimensions.\n",
            "To use the future default and silence this warning we advise to pass `rcond=None`, to keep using the old, explicitly pass `rcond=-1`.\n",
            "  # Remove the CWD from sys.path while we load stuff.\n"
          ],
          "name": "stderr"
        }
      ]
    },
    {
      "cell_type": "markdown",
      "metadata": {
        "id": "oijgukrZstdd"
      },
      "source": [
        "Now we want to test our coefficients and see how well we predict the answer.  To do with we will need to use the weight vector we just learned.  Use `np.dot` to calculate:\n",
        "\n",
        "$\\hat{Y} = X\\beta$\n",
        "\n",
        "We will then calculate the *residual* -- the error that remains between our true times in Y and the calculated times in Yhat.\n",
        "\n",
        "$resid = Y-\\hat{Y} $\n",
        "\n",
        "We will then use these residuals to come up with a single number that tells us how well we did.  For this, we will be using the Root Mean Squared Error (RMSE)\n",
        "\n",
        "$RMSE = \\sqrt{\\frac{1}{N} \\sum (y-\\hat{y})^2}$\n",
        "\n",
        "To do this we will use the elementwise multiplication (`a*b` not `np.dot(a,b)`), the square root (`np.sqrt`), and mean (``np.mean``) functions\n",
        "\n",
        "#Step 3 -- Inference     \n",
        "* Calculate the predicted values \n",
        "* Calculate the error"
      ]
    },
    {
      "cell_type": "code",
      "metadata": {
        "id": "x8gYatM5stdd",
        "colab": {
          "base_uri": "https://localhost:8080/"
        },
        "outputId": "355022be-129e-482b-bf11-74aa5c867d10"
      },
      "source": [
        "#TODO: Calculate Yhat, the residuals and RMSE for both the training and validation sets\n",
        "\n",
        "def calculate_yhat(X: np.array, B: np.array) -> np.array:\n",
        "    return np.dot(X,B)\n",
        "\n",
        "def calculate_residuals(Y: np.array, Yhat: np.array) -> np.array:\n",
        "    return (Y-Yhat)\n",
        "\n",
        "def calculate_rmse(residuals: np.array) -> float:\n",
        "    return np.sqrt(np.mean(residuals*residuals))\n",
        "\n",
        "\n",
        "Yhat = calculate_yhat(X, B_raw)\n",
        "Yhat_validation = calculate_yhat(X_validation, B_raw)\n",
        "\n",
        "residuals  = calculate_residuals(Y, Yhat)\n",
        "residuals_validation  = calculate_residuals(Y_validation, Yhat_validation)\n",
        "\n",
        "rmse = calculate_rmse(residuals)\n",
        "rmse_validation = calculate_rmse(residuals_validation)\n",
        "\n",
        "print('RMSE:',rmse)\n",
        "print('RMSE Validation:',rmse_validation)\n"
      ],
      "execution_count": null,
      "outputs": [
        {
          "output_type": "stream",
          "text": [
            "RMSE: 42.65085178953906\n",
            "RMSE Validation: 64.96719644690694\n"
          ],
          "name": "stdout"
        }
      ]
    },
    {
      "cell_type": "code",
      "metadata": {
        "id": "qsJTSFI-stdf",
        "colab": {
          "base_uri": "https://localhost:8080/",
          "height": 265
        },
        "outputId": "a5bc7b73-5c4e-4ff7-d736-63db18d11610"
      },
      "source": [
        "import matplotlib.pyplot as plt\n",
        "\n",
        "#Now let's plot our points residuals\n",
        "#Often, we'd like to plot our data, but we have a 30+dimensional space, i.e. one that's hard to visualize\n",
        "plt.plot(Y,residuals,'x')\n",
        "plt.plot(Y_validation,residuals_validation,'r.')\n",
        "plt.show()\n",
        "\n"
      ],
      "execution_count": null,
      "outputs": [
        {
          "output_type": "display_data",
          "data": {
            "image/png": "[encoded data removed]",
            "text/plain": [
              "<Figure size 432x288 with 1 Axes>"
            ]
          },
          "metadata": {
            "tags": [],
            "needs_background": "light"
          }
        }
      ]
    },
    {
      "cell_type": "markdown",
      "metadata": {
        "id": "PO2bk4lJstdi"
      },
      "source": [
        "Previously, we learned a weight vector, but because we didn't have a bias term, the weight vector has to go through the origin, which might not be what we want.  Let's try it all again with a bias term this time.\n",
        "\n",
        "To add a bias term, we will add a new column to our X matrix that is full of constants.  \n",
        "\n",
        "Does it matter what constant term we choose?\n",
        "\n",
        "The simplest way to do this is to use `hstack` which takes in a list of matrices and horizontally concatenates them (i.e. adds on new columns -- there exists a `vstack` that adds new rows).  The simpleest way to construct a constant term is to use `np.ones` which takes in a list with the number of ones to make for each dimension.\n",
        "\n",
        "e.g.\n",
        "`np.ones([4,2])` will make\n",
        "\n",
        "1 1\n",
        "\n",
        "1 1 \n",
        "\n",
        "1 1\n",
        "\n",
        "1 1\n",
        "\n",
        "#Step 4 -- Add a bias term\n",
        "* Add a bias term to the independent data -- `X`\n",
        "* Rerun the previous code \n",
        "* Compare the new errors to the old"
      ]
    },
    {
      "cell_type": "code",
      "metadata": {
        "id": "soScpJOBstdi",
        "colab": {
          "base_uri": "https://localhost:8080/",
          "height": 350
        },
        "outputId": "00264d0e-4acb-48fa-f529-7e35319a0697"
      },
      "source": [
        "#TODO construct an X matrix with a bias term. \n",
        "\n",
        "X_with_bias = np.hstack((np.ones([21000,1]),X))\n",
        "X_validation_with_bias = np.hstack((np.ones([9000,1]),X_validation))\n",
        "#TODO replace the np.zeros() with the correct code\n",
        "B_with_bias = calculate_weights_with_library(X_with_bias,Y)\n",
        "\n",
        "Yhat_with_bias = calculate_yhat(X_with_bias, B_with_bias)\n",
        "Yhat_validation_with_bias = calculate_yhat(X_validation_with_bias, B_with_bias)\n",
        "\n",
        "residuals_with_bias  = calculate_residuals(Y, Yhat_with_bias)\n",
        "residuals_validation_with_bias  = calculate_residuals(Y_validation, Yhat_validation_with_bias)\n",
        "\n",
        "rmse_with_bias = calculate_rmse(residuals_with_bias)\n",
        "rmse_validation_with_bias = calculate_rmse(residuals_validation_with_bias)\n",
        "\n",
        "\n",
        "print('RMSE with bias term:',rmse_with_bias)\n",
        "print('RMSE Validation with bias term:',rmse_validation_with_bias)\n",
        "\n",
        "plt.plot(Y,residuals_with_bias,'x')\n",
        "plt.plot(Y_validation,residuals_validation_with_bias,'ro')\n",
        "plt.show()"
      ],
      "execution_count": null,
      "outputs": [
        {
          "output_type": "stream",
          "text": [
            "/usr/local/lib/python3.6/dist-packages/ipykernel_launcher.py:10: FutureWarning: `rcond` parameter will change to the default of machine precision times ``max(M, N)`` where M and N are the input matrix dimensions.\n",
            "To use the future default and silence this warning we advise to pass `rcond=None`, to keep using the old, explicitly pass `rcond=-1`.\n",
            "  # Remove the CWD from sys.path while we load stuff.\n"
          ],
          "name": "stderr"
        },
        {
          "output_type": "stream",
          "text": [
            "RMSE with bias term: 37.20703983274873\n",
            "RMSE Validation with bias term: 57.37765716615712\n"
          ],
          "name": "stdout"
        },
        {
          "output_type": "display_data",
          "data": {
            "image/png": "[encoded data removed]",
            "text/plain": [
              "<Figure size 432x288 with 1 Axes>"
            ]
          },
          "metadata": {
            "tags": [],
            "needs_background": "light"
          }
        }
      ]
    },
    {
      "cell_type": "markdown",
      "metadata": {
        "id": "-eUYTFNNstdk"
      },
      "source": [
        "Now we are going to use artificial neural networks. We are going to be using PyTorch, one of the leading deep learning libraries. \n",
        "\n",
        "NOTE: We are going to be doing this in a GPU enabled way, so be sure to make sure your runtime is set to use a GPU -- Runtime > Change Runtime Type > Hardware Accelerator = GPU\n",
        "\n",
        "\n",
        "First lets use stochastic gradient descent to train a weight vector as we did above.  \n",
        "\n",
        "PyTorch lets us do this in a number of ways, but we will be doing the easiest possible one.  We are going to construct a `Sequential` model, with a `Linear` layer as its sole argument. `Sequential` can take in an arbitrary number of arguments, where each one is a layer that will be applied in the order that it is passed in.\n",
        "\n",
        "The parameters you care about for `Linear` are:\n",
        "\n",
        "`Linear(in_features, out_features, bias=True)`\n",
        "    \n",
        "`in_features` is the dimensionality of our input space -- in this case it will be the number of columns found in our X data\n",
        "`out_features` is the dimensionality of the output space -- in this case, it will be 1 (all of our final `out_features` will always be 1, as our output is the single number we are predicting).  \n",
        "\n",
        "# Step 5 -- Artificial Neural Network\n",
        "* Construct a linear regression model in PyTorch"
      ]
    },
    {
      "cell_type": "code",
      "metadata": {
        "id": "aCcqAXBWstdl",
        "colab": {
          "base_uri": "https://localhost:8080/"
        },
        "outputId": "136e3d58-d81b-4c75-9bda-59ef5115fe5c"
      },
      "source": [
        "import torch\n",
        "\n",
        "\n",
        "#TODO construct the model\n",
        "# Define a neural network model as a stack of layers\n",
        "model = torch.nn.Sequential(\n",
        "    torch.nn.Linear(34, 1, bias=True)\n",
        ")\n",
        "model.to('cuda')\n",
        "\n",
        "print(list(model.parameters()))"
      ],
      "execution_count": null,
      "outputs": [
        {
          "output_type": "stream",
          "text": [
            "[Parameter containing:\n",
            "tensor([[ 0.1328,  0.1048, -0.0845, -0.0917,  0.0556,  0.0666,  0.0955, -0.0467,\n",
            "          0.1154,  0.0719,  0.0414, -0.1317, -0.1458, -0.1259, -0.1676,  0.0226,\n",
            "          0.0565, -0.0090, -0.0574,  0.0103, -0.0671, -0.0373, -0.1688, -0.0885,\n",
            "         -0.0027, -0.0258,  0.1563,  0.1440,  0.1448, -0.0525, -0.0511,  0.0557,\n",
            "         -0.1288,  0.0711]], device='cuda:0', requires_grad=True), Parameter containing:\n",
            "tensor([-0.0912], device='cuda:0', requires_grad=True)]\n"
          ],
          "name": "stdout"
        }
      ]
    },
    {
      "cell_type": "markdown",
      "metadata": {
        "id": "GXkzI4KNstdn"
      },
      "source": [
        "Given our model, it's now time to train it.  First we need to convert our numpy matrices into PyTorch Tensors.  \n",
        "\n",
        "Then we need to set up a couple of things --\n",
        "\n",
        "First, we need to choose which optimizer we are going to use.  For this, let's just go with simple stochastic gradient descent.  `torch.optim.SGD(model.parameters(),lr=LR)` -- you'll need to pick a learning rate.  It's usually best to pick something relatively small, like say 0.01.\n",
        "\n",
        "Then we need to choose our loss function.  If our goal is to do a regression, we should choose the loss function we chose before, i.e. Mean Square Error --  `torch.nn.MSELoss()`\n",
        "\n",
        "\n",
        "Then, we need to loop over our dataset a number of times, i.e. a number of *epochs*.  At each step of the process we need to:\n",
        "\n",
        "1. Zero the gradients from the previous epoch -- `optimizer.zero_grad()` and `model.zero_grad()`\n",
        "2. Run the model in the forward direction -- `Yhat = model.forward(Xt)`\n",
        "3. Calculate the loss between our predictions and the truth -- `loss = loss_fn(Yhat,Yt)`\n",
        "4. Calculate back propagation of the loss through the network -- `loss.backward()`\n",
        "5. Run the stochastic gradient descent and update the weights -- `optimizer.step()`\n",
        "\n",
        "Some libraries hide all of these aspects, but PyTorch makes you do them explicitly.  It results in a little more code, but allows for some very fancy models (those involving different losses being calculated independently) to be done with very little change in the code.\n",
        "\n",
        "#Step 6 -- Training Your Model\n",
        "* Set up your training method\n",
        "* Set up your loss function \n",
        "* Run the training process as defined above"
      ]
    },
    {
      "cell_type": "code",
      "metadata": {
        "scrolled": true,
        "id": "Xd0VrZX7stdn",
        "colab": {
          "base_uri": "https://localhost:8080/"
        },
        "outputId": "13c1e6c7-7a3d-4a63-bea8-febe2e3cf929"
      },
      "source": [
        "torch.set_default_tensor_type(torch.cuda.FloatTensor)\n",
        "# Convert our numpy arrays to torch tensors\n",
        "Xt = torch.Tensor(X).to('cuda')\n",
        "# To make Yt match the shape of Yhat, we'll need it to be a slightly different shape\n",
        "Yt = torch.Tensor(Y.reshape((len(Y), 1))).to('cuda')\n",
        "\n",
        "\n",
        "\n",
        "def train(X: torch.Tensor, Y: torch.Tensor, model: torch.nn.Module, epochs:int) -> None:\n",
        "    #TODO set the optimizer and loss functions\n",
        "    optimizer = torch.optim.SGD(model.parameters(),lr=0.01)\n",
        "\n",
        "    #TODO set the loss function\n",
        "    # We'll use mean squared error as our loss function\n",
        "    loss_fn = torch.nn.MSELoss()\n",
        "    for t in range(epochs):\n",
        "\n",
        "        #TODO do the training steps here\n",
        "        #1. zero the gradient buffers\n",
        "        #1. Clear out the \"gradient\", i.e. the old update amounts\n",
        "        optimizer.zero_grad()\n",
        "        model.zero_grad()\n",
        "        #2. Make a prediction\n",
        "        Yhat = model.forward(Xt)\n",
        "        #3. Calculate loss (the error of the residual)\n",
        "        loss = loss_fn(Yhat,Yt)\n",
        "        if t % 100 == 0:\n",
        "            print(t,loss.item())\n",
        "\n",
        "        #4. Run the loss backwards through the graph\n",
        "        loss.backward()\n",
        "        #5. Run the optimizer to update the weights\n",
        "        optimizer.step()\n",
        "train(Xt,Yt,model, 5000)"
      ],
      "execution_count": null,
      "outputs": [
        {
          "output_type": "stream",
          "text": [
            "0 1384.9840087890625\n",
            "100 1384.8975830078125\n",
            "200 1384.8233642578125\n",
            "300 1384.759521484375\n",
            "400 1384.70458984375\n",
            "500 1384.6571044921875\n",
            "600 1384.6163330078125\n",
            "700 1384.581298828125\n",
            "800 1384.5511474609375\n",
            "900 1384.525146484375\n",
            "1000 1384.5028076171875\n",
            "1100 1384.4835205078125\n",
            "1200 1384.4669189453125\n",
            "1300 1384.45263671875\n",
            "1400 1384.4403076171875\n",
            "1500 1384.4296875\n",
            "1600 1384.4205322265625\n",
            "1700 1384.4127197265625\n",
            "1800 1384.406005859375\n",
            "1900 1384.400146484375\n",
            "2000 1384.395263671875\n",
            "2100 1384.390869140625\n",
            "2200 1384.3870849609375\n",
            "2300 1384.384033203125\n",
            "2400 1384.3812255859375\n",
            "2500 1384.3787841796875\n",
            "2600 1384.376708984375\n",
            "2700 1384.375\n",
            "2800 1384.37353515625\n",
            "2900 1384.3721923828125\n",
            "3000 1384.37109375\n",
            "3100 1384.3701171875\n",
            "3200 1384.369140625\n",
            "3300 1384.368408203125\n",
            "3400 1384.3680419921875\n",
            "3500 1384.3673095703125\n",
            "3600 1384.3668212890625\n",
            "3700 1384.366455078125\n",
            "3800 1384.3660888671875\n",
            "3900 1384.3658447265625\n",
            "4000 1384.365478515625\n",
            "4100 1384.3653564453125\n",
            "4200 1384.3651123046875\n",
            "4300 1384.364990234375\n",
            "4400 1384.3648681640625\n",
            "4500 1384.3646240234375\n",
            "4600 1384.364501953125\n",
            "4700 1384.364501953125\n",
            "4800 1384.364501953125\n",
            "4900 1384.3643798828125\n"
          ],
          "name": "stdout"
        }
      ]
    },
    {
      "cell_type": "code",
      "metadata": {
        "id": "DgzxLrtO9GRQ"
      },
      "source": [
        ""
      ],
      "execution_count": null,
      "outputs": []
    },
    {
      "cell_type": "markdown",
      "metadata": {
        "id": "zaRNJb0nstdp"
      },
      "source": [
        "Now we want to see how it did.  We will plot the residuals (i.e. the error) for both our training set and our validation set.  It is always important to have a validation set, as it will let us see how well our model is over (or under) fitting the data."
      ]
    },
    {
      "cell_type": "code",
      "metadata": {
        "id": "OISue2Nmstdp",
        "colab": {
          "base_uri": "https://localhost:8080/",
          "height": 299
        },
        "outputId": "74cf1be6-a7e9-42ee-9e93-ebec715efcc8"
      },
      "source": [
        "Yhat = model.forward(Xt).data.cpu().numpy()\n",
        "\n",
        "residual  = calculate_residuals(Y, Yhat)\n",
        "\n",
        "plt.plot(Y,residual,'x')\n",
        "\n",
        "\n",
        "Yhat_validation = model.forward(torch.Tensor(X_validation)).data.cpu().numpy()\n",
        "\n",
        "residual_validation  = calculate_residuals(Y_validation, Yhat_validation)\n",
        "\n",
        "plt.plot(Y_validation,residual_validation,'ro')\n",
        "plt.show()\n",
        "\n",
        "\n",
        "print('RMSE:',calculate_rmse(residual))\n",
        "print('Validation RMSE:',calculate_rmse(residual_validation))\n"
      ],
      "execution_count": null,
      "outputs": [
        {
          "output_type": "display_data",
          "data": {
            "image/png": "[encoded data removed]",
            "text/plain": [
              "<Figure size 432x288 with 1 Axes>"
            ]
          },
          "metadata": {
            "tags": [],
            "needs_background": "light"
          }
        },
        {
          "output_type": "stream",
          "text": [
            "RMSE: 37.20704597316719\n",
            "Validation RMSE: 57.37534172515892\n"
          ],
          "name": "stdout"
        }
      ]
    },
    {
      "cell_type": "markdown",
      "metadata": {
        "id": "FFKdcYqlstdr"
      },
      "source": [
        "...And we do just about the same as we did before.\n",
        "\n",
        "Now let's try it with some hidden layers.  Instead of just 1 Linear layer, we will have multiple layers.  As with the last one, we will have to specify the in_dimensions (identical to that one).  However, instead of an out_dimension of 1, we will go to the number of hidden_units, let's say 100.  Then we will have an output layer, which will go from our hidden_units dimension to an out_dimension of 1.\n",
        "\n",
        "Again, your model summary should look similar to below (layer weights will be different)\n",
        "\n",
        "#Step 7 -- Multi Layer Neural Network\n",
        "* Create a neural network with 1 hidden layer (i.e. 2 layers, Input -> Hidden, Hidden -> Output)"
      ]
    },
    {
      "cell_type": "code",
      "metadata": {
        "id": "ORQMNRn2stds",
        "colab": {
          "base_uri": "https://localhost:8080/"
        },
        "outputId": "72d65ecb-f18f-4d91-ed9b-57adc6bf0ff7"
      },
      "source": [
        "hidden_units = 100\n",
        "#TODO construct the model\n",
        "# Define a neural network model as a stack of layers\n",
        "model = torch.nn.Sequential(\n",
        "    torch.nn.Linear(34, hidden_units, bias=True),\n",
        "    torch.nn.Linear(hidden_units, 1, bias=True)\n",
        ")\n",
        "\n",
        "model.to('cuda')\n",
        "print(list(model.parameters()))"
      ],
      "execution_count": null,
      "outputs": [
        {
          "output_type": "stream",
          "text": [
            "[Parameter containing:\n",
            "tensor([[-0.0893,  0.0229,  0.0736,  ...,  0.1667, -0.1017,  0.0707],\n",
            "        [-0.1156, -0.0292,  0.1199,  ...,  0.1422, -0.0348, -0.0807],\n",
            "        [-0.0579,  0.0223,  0.0605,  ...,  0.1543,  0.0069,  0.1219],\n",
            "        ...,\n",
            "        [ 0.1084,  0.0066, -0.0260,  ...,  0.0886,  0.0384, -0.0637],\n",
            "        [ 0.0584, -0.0474, -0.1098,  ...,  0.0528, -0.1299, -0.0621],\n",
            "        [ 0.0916, -0.1480, -0.1199,  ...,  0.1457, -0.0135, -0.1543]],\n",
            "       requires_grad=True), Parameter containing:\n",
            "tensor([ 0.1017, -0.0996, -0.0131, -0.1371, -0.0117,  0.1333, -0.0327, -0.0624,\n",
            "        -0.1528,  0.0091,  0.1368, -0.0486,  0.0235,  0.1176, -0.1196,  0.0097,\n",
            "        -0.0450, -0.0979, -0.1308,  0.1269,  0.0106,  0.1050,  0.0658,  0.0201,\n",
            "         0.1410,  0.0215,  0.1465,  0.1687,  0.0085,  0.0360, -0.0272,  0.0845,\n",
            "        -0.0409,  0.0835, -0.1707, -0.0367,  0.1120, -0.0098, -0.0645,  0.0668,\n",
            "         0.0811,  0.1149,  0.1514,  0.1162,  0.0147,  0.1248,  0.0193,  0.0263,\n",
            "         0.0231, -0.1598, -0.0162, -0.1582,  0.0063, -0.0470,  0.1393, -0.0820,\n",
            "         0.1537,  0.1154,  0.1496, -0.0509, -0.1596,  0.0637,  0.0516,  0.0671,\n",
            "         0.1511,  0.1573, -0.0834,  0.1503,  0.1243,  0.0522,  0.0497, -0.0319,\n",
            "        -0.0887,  0.0989,  0.0210, -0.0335,  0.0531,  0.1186, -0.1071,  0.1372,\n",
            "        -0.1381,  0.0582,  0.0482, -0.1070, -0.0328,  0.1493, -0.0676, -0.0166,\n",
            "         0.0148, -0.1436,  0.1112,  0.1694,  0.0816,  0.0156, -0.0364,  0.0263,\n",
            "         0.1235,  0.0375, -0.1378,  0.1018], requires_grad=True), Parameter containing:\n",
            "tensor([[-1.5481e-02, -6.7024e-02,  3.8241e-02, -6.8855e-02, -8.0088e-02,\n",
            "          9.5154e-02,  6.6729e-02, -9.8497e-02,  5.2615e-02, -5.9042e-02,\n",
            "         -8.3988e-02,  4.0561e-02,  2.8321e-02,  3.7337e-02, -2.8049e-02,\n",
            "         -2.3757e-02, -7.6744e-02,  2.6881e-02,  7.3081e-02,  5.7735e-02,\n",
            "          7.2046e-02, -5.0851e-02,  3.1999e-02, -6.8313e-02, -6.1999e-02,\n",
            "         -3.7349e-02, -5.3370e-02, -5.9516e-02,  7.0063e-02, -3.2374e-02,\n",
            "          3.7948e-02,  8.7508e-02, -8.8819e-02, -3.8965e-02,  6.6867e-03,\n",
            "         -5.9479e-02,  3.3646e-02, -4.7099e-02, -2.2622e-02,  4.8858e-02,\n",
            "          9.9917e-02,  5.1808e-02, -3.0454e-02, -3.9568e-02,  3.8326e-02,\n",
            "         -6.7095e-02, -9.1755e-03,  9.8233e-02, -4.8761e-02,  3.5592e-02,\n",
            "         -4.4766e-02,  6.2667e-02,  7.2648e-03, -1.4273e-02, -2.5588e-05,\n",
            "          2.6928e-02, -5.0165e-02,  8.1582e-02, -5.2766e-02, -8.7435e-02,\n",
            "         -9.5533e-02, -3.8338e-02, -7.5621e-02, -5.3044e-02, -6.8122e-02,\n",
            "          4.7951e-02,  3.2570e-02, -1.4428e-02,  6.1253e-02, -1.6150e-02,\n",
            "         -7.9582e-02, -8.2711e-02,  3.5809e-02, -8.6446e-02,  5.0710e-02,\n",
            "         -5.7329e-02, -4.0515e-02, -8.9253e-02,  5.4796e-02, -9.8397e-02,\n",
            "         -3.6996e-02,  5.6373e-02,  2.1618e-02, -3.0717e-02, -2.7183e-02,\n",
            "          3.4047e-04, -2.7694e-02,  7.9392e-02, -7.8171e-02,  6.3437e-03,\n",
            "          2.3264e-02,  5.1989e-02,  9.3464e-02,  1.2487e-02,  4.4221e-02,\n",
            "          4.4931e-02, -2.7477e-02,  5.1707e-02,  3.1264e-02,  7.1648e-02]],\n",
            "       requires_grad=True), Parameter containing:\n",
            "tensor([-0.0555], requires_grad=True)]\n"
          ],
          "name": "stdout"
        }
      ]
    },
    {
      "cell_type": "markdown",
      "metadata": {
        "id": "LEZom1Glstdu"
      },
      "source": [
        "Copy your training code from above and let's see how well it does."
      ]
    },
    {
      "cell_type": "code",
      "metadata": {
        "scrolled": true,
        "id": "yKabh3yAstdv",
        "colab": {
          "base_uri": "https://localhost:8080/"
        },
        "outputId": "764ef103-cad3-4b8c-e827-1d1bfcdad172"
      },
      "source": [
        "train(Xt,Yt,model, 300)"
      ],
      "execution_count": null,
      "outputs": [
        {
          "output_type": "stream",
          "text": [
            "0 9364.396484375\n",
            "100 nan\n",
            "200 nan\n"
          ],
          "name": "stdout"
        }
      ]
    },
    {
      "cell_type": "markdown",
      "metadata": {
        "id": "L-SI1yGmstdx"
      },
      "source": [
        "Hmmmm.....that's no good. Our loss quickly explodes and goes to nan.  This is cause by our stochastic gradient descent ping-ponging back and forth.  Instead of converging it keeps overshooting more and more until it goes beyond the floating point limit.  Obviously, that isn't what we want.\n",
        "\n",
        "We can address this in one of 2 ways:\n",
        "\n",
        "1. We can shrink out learning rate to a small enough value that this no longer occurs\n",
        "2. We can clip our gradients to make sure they don't exceed a specific value\n",
        "\n",
        "We can do it the first way, but that will slow our training.  The second can be achieved by adding a step into our training process:\n",
        "\n",
        "\n",
        "1. Zero the gradients from the previous epoch -- `optimizer.zero_grad()` and `model.zero_grad()`\n",
        "2. Run the model in the forward direction -- `Yhat = model.forward(Xt)`\n",
        "3. Calculate the loss between our predictions and the truth -- `loss = loss_fn(Yhat,Yt)`\n",
        "4. Calculate back propagation of the loss through the network -- `loss.backward()`\n",
        "5. **Clip the gradients** -- `torch.nn.utils.clip_grad_norm_(model.parameters(),5)`\n",
        "6. Run the stochastic gradient descent and update the weights -- `optimizer.step()`\n",
        "\n",
        "Copy your model construction with the hidden layers from above, and then set up an optimization loop with gradient clipping.\n",
        "\n",
        "#Step 8 -- Gradient Clipping\n",
        "* Modify your training method from step 6 to add in Gradient Clipping"
      ]
    },
    {
      "cell_type": "code",
      "metadata": {
        "id": "hw5nDqOMstdx",
        "colab": {
          "base_uri": "https://localhost:8080/"
        },
        "outputId": "e55fc5be-f211-408d-c2ea-1bbc24b4df01"
      },
      "source": [
        "\n",
        "def train_with_gradient_clipping(X: torch.Tensor, Y: torch.Tensor, model: torch.nn.Module, epochs:int) -> None:\n",
        "    #TODO set the optimizer and loss functions\n",
        "    optimizer = torch.optim.SGD(model.parameters(),lr=0.01)\n",
        "\n",
        "    #TODO set the loss function\n",
        "    # We'll use mean squared error as our loss function\n",
        "    loss_fn = torch.nn.MSELoss()\n",
        "    for t in range(epochs):\n",
        "        #TODO do the training steps here\n",
        "        #1. zero the gradient buffers\n",
        "        #1. Clear out the \"gradient\", i.e. the old update amounts\n",
        "        optimizer.zero_grad()\n",
        "        model.zero_grad()\n",
        "        #2. Make a prediction\n",
        "        Yhat = model.forward(Xt)\n",
        "        #3. Calculate loss (the error of the residual)\n",
        "        loss = loss_fn(Yhat,Yt)\n",
        "        if t % 100 == 0:\n",
        "            print(t,loss.item())\n",
        "\n",
        "        #4. Run the loss backwards through the graph\n",
        "        loss.backward()\n",
        "        #5. Clip the gradients\n",
        "        torch.nn.utils.clip_grad_norm_(model.parameters(),5)\n",
        "        #6. Run the optimizer to update the weights\n",
        "        optimizer.step()\n",
        "\n",
        "train_with_gradient_clipping(Xt,Yt,model, 5000)"
      ],
      "execution_count": null,
      "outputs": [
        {
          "output_type": "stream",
          "text": [
            "0 9338.669921875\n",
            "100 6069.66162109375\n",
            "200 3724.80908203125\n",
            "300 2430.046875\n",
            "400 1874.3721923828125\n",
            "500 1650.302490234375\n",
            "600 1526.802490234375\n",
            "700 1460.3353271484375\n",
            "800 1425.4503173828125\n",
            "900 1407.4342041015625\n",
            "1000 1398.2156982421875\n",
            "1100 1393.519775390625\n",
            "1200 1391.1300048828125\n",
            "1300 1389.9117431640625\n",
            "1400 1389.287841796875\n",
            "1500 1388.96630859375\n",
            "1600 1388.798583984375\n",
            "1700 1388.7095947265625\n",
            "1800 1388.6612548828125\n",
            "1900 1388.6339111328125\n",
            "2000 1388.6175537109375\n",
            "2100 1388.6070556640625\n",
            "2200 1388.5994873046875\n",
            "2300 1388.5938720703125\n",
            "2400 1388.5892333984375\n",
            "2500 1388.5850830078125\n",
            "2600 1388.5814208984375\n",
            "2700 1388.577880859375\n",
            "2800 1388.5745849609375\n",
            "2900 1388.5711669921875\n",
            "3000 1388.5682373046875\n",
            "3100 1388.565185546875\n",
            "3200 1388.5621337890625\n",
            "3300 1388.5592041015625\n",
            "3400 1388.556396484375\n",
            "3500 1388.553466796875\n",
            "3600 1388.5506591796875\n",
            "3700 1388.5478515625\n",
            "3800 1388.545166015625\n",
            "3900 1388.54248046875\n",
            "4000 1388.53955078125\n",
            "4100 1388.5369873046875\n",
            "4200 1388.5341796875\n",
            "4300 1388.5313720703125\n",
            "4400 1388.5286865234375\n",
            "4500 1388.526123046875\n",
            "4600 1388.5235595703125\n",
            "4700 1388.5208740234375\n",
            "4800 1388.51806640625\n",
            "4900 1388.515625\n"
          ],
          "name": "stdout"
        }
      ]
    },
    {
      "cell_type": "code",
      "metadata": {
        "id": "uFL7IoDUstdz",
        "colab": {
          "base_uri": "https://localhost:8080/",
          "height": 299
        },
        "outputId": "152e4c11-febe-45ba-e05b-08c39bcae909"
      },
      "source": [
        "Yhat = model.forward(Xt).data.cpu().numpy()\n",
        "\n",
        "residual  = calculate_residuals(Y, Yhat)\n",
        "\n",
        "plt.plot(Y,residual,'x')\n",
        "\n",
        "\n",
        "Yhat_validation = model.forward(torch.Tensor(X_validation)).data.cpu().numpy()\n",
        "\n",
        "residual_validation  = calculate_residuals(Y_validation, Yhat_validation)\n",
        "\n",
        "plt.plot(Y_validation,residual_validation,'ro')\n",
        "plt.show()\n",
        "\n",
        "\n",
        "print('RMSE:',calculate_rmse(residual))\n",
        "print('Validation RMSE:',calculate_rmse(residual_validation))\n"
      ],
      "execution_count": null,
      "outputs": [
        {
          "output_type": "display_data",
          "data": {
            "image/png": "[encoded data removed]",
            "text/plain": [
              "<Figure size 432x288 with 1 Axes>"
            ]
          },
          "metadata": {
            "tags": [],
            "needs_background": "light"
          }
        },
        {
          "output_type": "stream",
          "text": [
            "RMSE: 37.26275585112708\n",
            "Validation RMSE: 57.180418416086624\n"
          ],
          "name": "stdout"
        }
      ]
    },
    {
      "cell_type": "markdown",
      "metadata": {
        "id": "vT0BjAhBstd1"
      },
      "source": [
        "Wait, that looks just like it did before!  The key to neural networks comes from the non-linear activations.  No matter how many layers we add, so long as the rank of the hidden layers is $\\geq$ the rank of the original vector, the best we can do is the least squares estimation (as it is the maximum likelihood estimator for a linear regression).  If the rank is decreased, then we are doing some form of compression, akin to Principal Component Analysis.  Let's try it with a bit of nonlinearity. \n",
        "\n",
        "Let's do a single hidden layer with a non-linear activation -- we will use the Rectified Linear Unit (ReLU) as it is fast and all we really care about is ANY kind of nonlinearity (sometimes we care about our nonlinearity having a specific meaning or mapping into a specific range (0 to 1, -1 to 1, etc.).\n",
        "\n",
        "This means we should now have a Sequential model with\n",
        "\n",
        "1. A Linear layer going from our input dimension to the number of hidden units\n",
        "2. A ReLU activation layer -- `torch.nn.ReLU()`\n",
        "3. A Linear layer going from our hidden units to 1\n",
        "\n",
        "\n",
        "#Step 9 -- Create a non-linear multi layer Neural Network\n",
        "* Your network should be two layers like above, but should have a non-linear activation function (the ReLU) (e.g.  Input -> Hidden, ReLU, Hidden -> Output)\n"
      ]
    },
    {
      "cell_type": "code",
      "metadata": {
        "id": "wuNkOLVYstd2",
        "colab": {
          "base_uri": "https://localhost:8080/"
        },
        "outputId": "e3eb4113-3cea-42f0-d4af-384f0ec2d966"
      },
      "source": [
        "hidden_units = 100\n",
        "#TODO construct the model\n",
        "# Define a neural network model as a stack of layers\n",
        "model = torch.nn.Sequential(\n",
        "    torch.nn.Linear(34, hidden_units, bias=True),\n",
        "    torch.nn.ReLU(),\n",
        "    torch.nn.Linear(hidden_units, 1, bias=True)\n",
        ")\n",
        "\n",
        "\n",
        "model.to('cuda')\n",
        "print(list(model.parameters()))"
      ],
      "execution_count": null,
      "outputs": [
        {
          "output_type": "stream",
          "text": [
            "[Parameter containing:\n",
            "tensor([[ 0.1624,  0.0470,  0.0755,  ...,  0.0011,  0.0089,  0.1533],\n",
            "        [ 0.0298, -0.0026, -0.1026,  ..., -0.0569, -0.0500,  0.1169],\n",
            "        [-0.0738,  0.0663, -0.1009,  ...,  0.1159,  0.1325,  0.0628],\n",
            "        ...,\n",
            "        [ 0.1352, -0.0422,  0.1561,  ..., -0.0647, -0.0406,  0.1563],\n",
            "        [ 0.0242, -0.1506, -0.0549,  ...,  0.0721, -0.1472,  0.1680],\n",
            "        [ 0.0040,  0.1011, -0.0171,  ..., -0.0991,  0.0980, -0.1301]],\n",
            "       requires_grad=True), Parameter containing:\n",
            "tensor([-0.0547, -0.0293,  0.1632,  0.0226, -0.0878, -0.0447,  0.0398, -0.1211,\n",
            "         0.1473,  0.0961, -0.0792, -0.0726,  0.1267,  0.0557,  0.1324, -0.1683,\n",
            "         0.1239,  0.1079,  0.0845, -0.0499,  0.1268, -0.0414,  0.1278,  0.1222,\n",
            "         0.0182,  0.1020,  0.1553, -0.1130,  0.0924, -0.0974,  0.0277, -0.0757,\n",
            "         0.1655, -0.0084, -0.1042,  0.1354,  0.1260, -0.0666, -0.1473,  0.0636,\n",
            "        -0.0108,  0.0379, -0.1289, -0.1547, -0.1314, -0.0880,  0.1702,  0.1324,\n",
            "         0.1287, -0.0444,  0.0102,  0.0661,  0.0088, -0.0187,  0.0351,  0.0108,\n",
            "        -0.1138,  0.1344, -0.1629, -0.0065, -0.0939, -0.0353,  0.1115, -0.0716,\n",
            "        -0.0422, -0.0780, -0.0302, -0.0618, -0.0899, -0.1098, -0.1185, -0.1546,\n",
            "        -0.0924, -0.1250,  0.0394,  0.1277,  0.0555, -0.1098,  0.0602,  0.1684,\n",
            "        -0.0853,  0.0121, -0.0425,  0.0393,  0.0383,  0.0695,  0.0187,  0.0283,\n",
            "        -0.1188, -0.0214,  0.1395,  0.0370,  0.1252,  0.0599, -0.0354, -0.0093,\n",
            "         0.0374,  0.0047, -0.0562,  0.0023], requires_grad=True), Parameter containing:\n",
            "tensor([[ 0.0515,  0.0725, -0.0485, -0.0643, -0.0214,  0.0772,  0.0117, -0.0486,\n",
            "          0.0286,  0.0086,  0.0546, -0.0899, -0.0634, -0.0908, -0.0009,  0.0009,\n",
            "         -0.0999,  0.0118, -0.0966,  0.0409,  0.0579,  0.0732, -0.0872, -0.0139,\n",
            "         -0.0002, -0.0509,  0.0895, -0.0917, -0.0236, -0.0249,  0.0324, -0.0849,\n",
            "          0.0851,  0.0848,  0.0231, -0.0043, -0.0513, -0.0203, -0.0564,  0.0602,\n",
            "         -0.0871, -0.0018, -0.0939, -0.0478, -0.0062,  0.0068, -0.0613, -0.0882,\n",
            "          0.0924, -0.0363,  0.0988,  0.0733, -0.0361,  0.0038, -0.0610,  0.0881,\n",
            "         -0.0826, -0.0607,  0.0389, -0.0210, -0.0857,  0.0242, -0.0154, -0.0928,\n",
            "          0.0648, -0.0003, -0.0378,  0.0058, -0.0962,  0.0378,  0.0848, -0.0653,\n",
            "          0.0650,  0.0269,  0.0518, -0.0484,  0.0683, -0.0800, -0.0191, -0.0359,\n",
            "         -0.0812, -0.0848, -0.0156, -0.0852, -0.0363, -0.0631, -0.0405, -0.0795,\n",
            "          0.0400,  0.0521,  0.0472,  0.0179,  0.0228,  0.0078,  0.0692, -0.0543,\n",
            "          0.0650, -0.0667, -0.0859, -0.0579]], requires_grad=True), Parameter containing:\n",
            "tensor([-0.0388], requires_grad=True)]\n"
          ],
          "name": "stdout"
        }
      ]
    },
    {
      "cell_type": "markdown",
      "metadata": {
        "id": "PcdTiQqnstd3"
      },
      "source": [
        "Use the optimization code with the gradient clipping from above to train our new, non-linear, model.  I recommend letting it run for about 10000 epochs.\n"
      ]
    },
    {
      "cell_type": "code",
      "metadata": {
        "scrolled": true,
        "id": "WNF1QC-Fstd4",
        "colab": {
          "base_uri": "https://localhost:8080/"
        },
        "outputId": "31d9e279-161e-4b15-b7c7-58edfa65d422"
      },
      "source": [
        "\n",
        "train_with_gradient_clipping(Xt,Yt,model, 10000)"
      ],
      "execution_count": null,
      "outputs": [
        {
          "output_type": "stream",
          "text": [
            "0 9410.4677734375\n",
            "100 6291.63623046875\n",
            "200 3877.6845703125\n",
            "300 2445.5869140625\n",
            "400 1690.7811279296875\n",
            "500 1167.046875\n",
            "600 973.5506591796875\n",
            "700 907.6096801757812\n",
            "800 875.5670166015625\n",
            "900 853.8954467773438\n",
            "1000 836.462646484375\n",
            "1100 820.5987548828125\n",
            "1200 804.9932250976562\n",
            "1300 789.1663818359375\n",
            "1400 772.6085815429688\n",
            "1500 754.554443359375\n",
            "1600 734.3991088867188\n",
            "1700 712.4474487304688\n",
            "1800 688.8069458007812\n",
            "1900 664.3385620117188\n",
            "2000 639.552734375\n",
            "2100 615.0418090820312\n",
            "2200 591.3115234375\n",
            "2300 568.7240600585938\n",
            "2400 547.5521240234375\n",
            "2500 527.859619140625\n",
            "2600 509.6075744628906\n",
            "2700 492.8703308105469\n",
            "2800 477.4490966796875\n",
            "2900 463.2735290527344\n",
            "3000 450.30242919921875\n",
            "3100 438.3020935058594\n",
            "3200 427.3118896484375\n",
            "3300 417.1413879394531\n",
            "3400 407.732666015625\n",
            "3500 399.00067138671875\n",
            "3600 390.9758605957031\n",
            "3700 383.57421875\n",
            "3800 376.713134765625\n",
            "3900 370.2835388183594\n",
            "4000 364.2748718261719\n",
            "4100 358.68359375\n",
            "4200 353.4311828613281\n",
            "4300 348.4703369140625\n",
            "4400 343.8040771484375\n",
            "4500 339.442626953125\n",
            "4600 335.3339538574219\n",
            "4700 331.4262390136719\n",
            "4800 327.74298095703125\n",
            "4900 324.261962890625\n",
            "5000 320.9662780761719\n",
            "5100 317.8426513671875\n",
            "5200 314.8724670410156\n",
            "5300 312.033935546875\n",
            "5400 309.3074645996094\n",
            "5500 306.7110900878906\n",
            "5600 304.2221984863281\n",
            "5700 301.82000732421875\n",
            "5800 299.5257873535156\n",
            "5900 297.3158874511719\n",
            "6000 295.1946105957031\n",
            "6100 293.1646423339844\n",
            "6200 291.1991271972656\n",
            "6300 289.3080749511719\n",
            "6400 287.49713134765625\n",
            "6500 285.74481201171875\n",
            "6600 284.0440979003906\n",
            "6700 282.3891296386719\n",
            "6800 280.7642517089844\n",
            "6900 279.1451416015625\n",
            "7000 277.57843017578125\n",
            "7100 276.0408630371094\n",
            "7200 274.5460205078125\n",
            "7300 273.097900390625\n",
            "7400 271.7035827636719\n",
            "7500 270.3538818359375\n",
            "7600 269.04522705078125\n",
            "7700 267.76239013671875\n",
            "7800 266.52252197265625\n",
            "7900 265.3088684082031\n",
            "8000 264.12518310546875\n",
            "8100 262.979248046875\n",
            "8200 261.8497009277344\n",
            "8300 260.7302551269531\n",
            "8400 259.61761474609375\n",
            "8500 258.50054931640625\n",
            "8600 257.4034118652344\n",
            "8700 256.33343505859375\n",
            "8800 255.28909301757812\n",
            "8900 254.2489013671875\n",
            "9000 253.22711181640625\n",
            "9100 252.20799255371094\n",
            "9200 251.20790100097656\n",
            "9300 250.24627685546875\n",
            "9400 249.31399536132812\n",
            "9500 248.39657592773438\n",
            "9600 247.4891357421875\n",
            "9700 246.60946655273438\n",
            "9800 245.74685668945312\n",
            "9900 244.88604736328125\n"
          ],
          "name": "stdout"
        }
      ]
    },
    {
      "cell_type": "code",
      "metadata": {
        "id": "QwFn4E6bstd6",
        "colab": {
          "base_uri": "https://localhost:8080/",
          "height": 299
        },
        "outputId": "e659f084-8a97-4577-97eb-72878d2c7a13"
      },
      "source": [
        "Yhat = model.forward(Xt).data.cpu().numpy()\n",
        "\n",
        "residual  = calculate_residuals(Y, Yhat)\n",
        "\n",
        "plt.plot(Y,residual,'x')\n",
        "\n",
        "\n",
        "Yhat_validation = model.forward(torch.Tensor(X_validation)).data.cpu().numpy()\n",
        "\n",
        "residual_validation  = calculate_residuals(Y_validation, Yhat_validation)\n",
        "\n",
        "plt.plot(Y_validation,residual_validation,'ro')\n",
        "plt.show()\n",
        "\n",
        "\n",
        "print('RMSE:',calculate_rmse(residual))\n",
        "print('Validation RMSE:',calculate_rmse(residual_validation))\n"
      ],
      "execution_count": null,
      "outputs": [
        {
          "output_type": "display_data",
          "data": {
            "image/png": "[encoded data removed]",
            "text/plain": [
              "<Figure size 432x288 with 1 Axes>"
            ]
          },
          "metadata": {
            "tags": [],
            "needs_background": "light"
          }
        },
        {
          "output_type": "stream",
          "text": [
            "RMSE: 15.621760731436892\n",
            "Validation RMSE: 17.33421776556358\n"
          ],
          "name": "stdout"
        }
      ]
    },
    {
      "cell_type": "markdown",
      "metadata": {
        "id": "OXS4Lk8gstd8"
      },
      "source": [
        "Ah, that looks better.  Note, you are probably overfitting (it is the tendency of these techniques), you can try some form of regularization (e.g., dropout) to reduce this overfitting for extra-credit.  \n",
        "\n",
        "You can try to explore different network topologies (different numbers of layers, different activation functions) and different training techniques to see how well you can do on the validation set.\n",
        "\n",
        "Now, let's use this as a heuristic for our search.\n",
        "\n",
        "Below are the helper functions needed -- use them in your A* implementation\n",
        "\n",
        "#BONUS -- A*\n",
        "* Implement A* search for the MineCraft planning domain, using the above estimates as  heuristics"
      ]
    },
    {
      "cell_type": "code",
      "metadata": {
        "id": "8NpO_MlOstd8"
      },
      "source": [
        "import json\n",
        "from typing import NamedTuple, Dict, Tuple, Optional, Sequence, List, Set, FrozenSet\n",
        "import array\n",
        "import heapq\n",
        "import time\n",
        "import itertools\n",
        "\n",
        "with open('Crafting.json') as f:\n",
        "    Crafting = json.load(f)\n",
        "items_by_index = list(sorted(Crafting['Items']))\n",
        "items_to_indices = {item: index for index, item in enumerate(items_by_index)}\n",
        "\n",
        "class State:\n",
        "\n",
        "    def __init__(self, items=None) :\n",
        "        if items is not None:\n",
        "            # Copying a state from an old state.\n",
        "            # This call to the array constructor creates an array of unsigned integers and initializes it from the contents of items.\n",
        "            self.items = array.array('I', items)\n",
        "        else:\n",
        "            self.items = array.array('I', [0 for item in items_by_index])\n",
        "\n",
        "    def __add__(self, other):\n",
        "        s = State(self.items)\n",
        "        # A. How do we add together the contents of two states?\n",
        "        for ii,oi in enumerate(other.items):\n",
        "            s.items[ii] += oi\n",
        "        return s\n",
        "    def __sub__(self, other):\n",
        "        s = State(self.items)\n",
        "        # A. How do we add together the contents of two states?\n",
        "        for ii,oi in enumerate(other.items):\n",
        "            s.items[ii] -= oi\n",
        "        return s\n",
        "\n",
        "    def __ge__(self, other):\n",
        "        # C. How do we know whether one state (self) contains everything that's inside of another (other)? \n",
        "        for si,oi in zip(self.items,other.items):\n",
        "            if si < oi:\n",
        "                return False\n",
        "        return True\n",
        "        \n",
        "    def __lt__(self, other):\n",
        "        return not (self >= other)\n",
        "\n",
        "    def __eq__(self, other):\n",
        "        return self.items == other.items\n",
        "\n",
        "    def __hash__(self):\n",
        "        hsh = 5381\n",
        "        for s in self.items:\n",
        "            hsh = ((hsh << 5) + hsh) + s\n",
        "        return hsh\n",
        "\n",
        "    def __str__(self):\n",
        "        out_str = []\n",
        "        for k,v  in self.to_dict().items():\n",
        "            out_str.append('{}:{}'.format(k,v))\n",
        "        return ','.join(out_str)\n",
        "\n",
        "    def to_dict(self):\n",
        "        return {items_by_index[idx]: self.items[idx]\n",
        "                for idx in range(len(self.items))}\n",
        "\n",
        "    @classmethod\n",
        "    def from_dict(cls, item_dict: Dict[str, int]) -> 'State':\n",
        "        return cls([\n",
        "            item_dict.get(item, 0) for item in items_by_index\n",
        "        ])\n",
        "    \n",
        "class Recipe(NamedTuple):\n",
        "    produces: State\n",
        "    consumes: State\n",
        "    requires: State\n",
        "    cost: int\n",
        "\n",
        "recipes: Dict[str, Recipe] = {}\n",
        "for name, rule in Crafting['Recipes'].items():\n",
        "    recipes[name] = Recipe(\n",
        "        State.from_dict(rule.get('Produces', {})),\n",
        "        State.from_dict(rule.get('Consumes', {})),\n",
        "        State.from_dict({item: 1 if req else 0\n",
        "                         for item, req in rule.get('Requires', {}).items()}),\n",
        "        rule['Time']\n",
        "    )\n",
        "    \n",
        "def preconditions_satisfied(state: State, recipe: Recipe) -> bool:\n",
        "    return state >= recipe.consumes and state >= recipe.requires\n",
        "\n",
        "def apply_effects(state: State, recipe: Recipe) -> State:\n",
        "    return state-recipe.consumes+recipe.produces"
      ],
      "execution_count": null,
      "outputs": []
    },
    {
      "cell_type": "code",
      "metadata": {
        "id": "3YU6wAM9std-"
      },
      "source": [
        "import random\n",
        "\n",
        "def states_to_tensor(initial_state:State , goal_state:State) -> torch.Tensor:\n",
        "    items = ['bench','cart','coal','cobble',\n",
        "     'furnace','ingot','iron_axe',\n",
        "     'iron_pickaxe','ore','plank','rail',\n",
        "     'stick','stone_axe','stone_pickaxe',\n",
        "     'wood','wooden_axe','wooden_pickaxe']\n",
        "    data = []\n",
        "    initial_state = initial_state.to_dict()\n",
        "    goal_state = goal_state.to_dict()\n",
        "    for i in items:\n",
        "        data.append([initial_state[i]])\n",
        "    for i in items:\n",
        "        data.append([goal_state[i]])\n",
        "    return torch.Tensor(np.array(data).T)\n",
        "\n",
        "\n",
        "def get_heuristic(current_state:State , goal_state:State) -> float:\n",
        "    return model.forward(states_to_tensor(current_state,goal_state)).data.numpy()[0,0]\n",
        "\n",
        "\n",
        "pruning = [State.from_dict({'cobble':9}),\n",
        "           State.from_dict({'wood':3}),\n",
        "           State.from_dict({'plank':9}),\n",
        "           State.from_dict({'ore':2}),\n",
        "           State.from_dict({'stick':6}),\n",
        "           State.from_dict({'bench':2}),\n",
        "           State.from_dict({'furnace':2}),\n",
        "           State.from_dict({'iron_axe':2}),\n",
        "           State.from_dict({'iron_pickaxe':2}),\n",
        "           State.from_dict({'stone_axe':2}),\n",
        "           State.from_dict({'stone_pickaxe':2}),\n",
        "           State.from_dict({'wooden_axe':2}),\n",
        "           State.from_dict({'wooden_pickaxe':2}),\n",
        "           State.from_dict({'coal':2})]\n",
        "\n",
        "def prune(state:State) -> bool:\n",
        "    to_prune = False\n",
        "    for p in pruning:\n",
        "        if state >= p:\n",
        "            to_prune = True\n",
        "            break\n",
        "                        \n",
        "    return to_prune"
      ],
      "execution_count": null,
      "outputs": []
    },
    {
      "cell_type": "code",
      "metadata": {
        "id": "-J1G6nmysteA"
      },
      "source": [
        "\n",
        "#TODO implement A* search\n",
        "#It should return a tuple of the number of states visited, the time cost, \n",
        "#and the path of recipes it takes (as a list of recipe names)\n",
        "#Break the loop when you have visited max_nodes\n",
        "#I recommend using the above prune method after applying a recipe \n",
        "#but before adding a node to the open set\n",
        "\n",
        "\n",
        "def a_star(initial:State, goal:State, max_nodes:int) -> Tuple[int, int,Optional[List[str]]]:\n",
        "    pass"
      ],
      "execution_count": null,
      "outputs": []
    },
    {
      "cell_type": "code",
      "metadata": {
        "id": "r9m6j5-ysteC"
      },
      "source": [
        "#test code\n",
        "print(a_star(State.from_dict({'wood':1}),State.from_dict({'wooden_pickaxe':1}),1000))\n",
        "print(a_star(State.from_dict({'wood':1}),State.from_dict({'iron_pickaxe':1}),20000))\n",
        "print(a_star(State.from_dict({}),State.from_dict({'rail':1}),20000))\n",
        "print(a_star(State.from_dict({}),State.from_dict({'cart':1}),20000))\n"
      ],
      "execution_count": null,
      "outputs": []
    }
  ]
}